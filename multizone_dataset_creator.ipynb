{
 "cells": [
  {
   "cell_type": "code",
   "execution_count": 1,
   "metadata": {},
   "outputs": [],
   "source": [
    "from scheduler_vm_task.master_machine.weather_data_utils import (\n",
    "    get_points_over_country,\n",
    "    get_multiple_historic_data,\n",
    "    get_emission_data,\n",
    "    average_emission_data,\n",
    "    get_historic_data,\n",
    "    parameters,\n",
    ")"
   ]
  },
  {
   "cell_type": "code",
   "execution_count": 2,
   "metadata": {},
   "outputs": [],
   "source": [
    "# fmt: off\n",
    "countryISOMapping = { 'AF': 'AFG', 'AX': 'ALA', 'AL': 'ALB', 'DZ': 'DZA', 'AS': 'ASM', 'AD': 'AND', 'AO': 'AGO', 'AI': 'AIA', 'AQ': 'ATA', 'AG': 'ATG', 'AR': 'ARG', 'AM': 'ARM', 'AW': 'ABW', 'AU': 'AUS', 'AT': 'AUT', 'AZ': 'AZE', 'BS': 'BHS', 'BH': 'BHR', 'BD': 'BGD', 'BB': 'BRB', 'BY': 'BLR', 'BE': 'BEL', 'BZ': 'BLZ', 'BJ': 'BEN', 'BM': 'BMU', 'BT': 'BTN', 'BO': 'BOL', 'BA': 'BIH', 'BW': 'BWA', 'BV': 'BVT', 'BR': 'BRA', 'VG': 'VGB', 'IO': 'IOT', 'BN': 'BRN', 'BG': 'BGR', 'BF': 'BFA', 'BI': 'BDI', 'KH': 'KHM', 'CM': 'CMR', 'CA': 'CAN', 'CV': 'CPV', 'KY': 'CYM', 'CF': 'CAF', 'TD': 'TCD', 'CL': 'CHL', 'CN': 'CHN', 'HK': 'HKG', 'MO': 'MAC', 'CX': 'CXR', 'CC': 'CCK', 'CO': 'COL', 'KM': 'COM', 'CG': 'COG', 'CD': 'COD', 'CK': 'COK', 'CR': 'CRI', 'CI': 'CIV', 'HR': 'HRV', 'CU': 'CUB', 'CY': 'CYP', 'CZ': 'CZE', 'DK': 'DNK', 'DJ': 'DJI', 'DM': 'DMA', 'DO': 'DOM', 'EC': 'ECU', 'EG': 'EGY', 'SV': 'SLV', 'GQ': 'GNQ', 'ER': 'ERI', 'EE': 'EST', 'ET': 'ETH', 'FK': 'FLK', 'FO': 'FRO', 'FJ': 'FJI', 'FI': 'FIN', 'FR': 'FRA', 'GF': 'GUF', 'PF': 'PYF', 'TF': 'ATF', 'GA': 'GAB', 'GM': 'GMB', 'GE': 'GEO', 'DE': 'DEU', 'GH': 'GHA', 'GI': 'GIB', 'GR': 'GRC', 'GL': 'GRL', 'GD': 'GRD', 'GP': 'GLP', 'GU': 'GUM', 'GT': 'GTM', 'GG': 'GGY', 'GN': 'GIN', 'GW': 'GNB', 'GY': 'GUY', 'HT': 'HTI', 'HM': 'HMD', 'VA': 'VAT', 'HN': 'HND', 'HU': 'HUN', 'IS': 'ISL', 'IN': 'IND', 'ID': 'IDN', 'IR': 'IRN', 'IQ': 'IRQ', 'IE': 'IRL', 'IM': 'IMN', 'IL': 'ISR', 'IT': 'ITA', 'JM': 'JAM', 'JP': 'JPN', 'JE': 'JEY', 'JO': 'JOR', 'KZ': 'KAZ', 'KE': 'KEN', 'KI': 'KIR', 'KP': 'PRK', 'KR': 'KOR', 'KW': 'KWT', 'KG': 'KGZ', 'LA': 'LAO', 'LV': 'LVA', 'LB': 'LBN', 'LS': 'LSO', 'LR': 'LBR', 'LY': 'LBY', 'LI': 'LIE', 'LT': 'LTU', 'LU': 'LUX', 'MK': 'MKD', 'MG': 'MDG', 'MW': 'MWI', 'MY': 'MYS', 'MV': 'MDV', 'ML': 'MLI', 'MT': 'MLT', 'MH': 'MHL', 'MQ': 'MTQ', 'MR': 'MRT', 'MU': 'MUS', 'YT': 'MYT', 'MX': 'MEX', 'FM': 'FSM', 'MD': 'MDA', 'MC': 'MCO', 'MN': 'MNG', 'ME': 'MNE', 'MS': 'MSR', 'MA': 'MAR', 'MZ': 'MOZ', 'MM': 'MMR', 'NA': 'NAM', 'NR': 'NRU', 'NP': 'NPL', 'NL': 'NLD', 'AN': 'ANT', 'NC': 'NCL', 'NZ': 'NZL', 'NI': 'NIC', 'NE': 'NER', 'NG': 'NGA', 'NU': 'NIU', 'NF': 'NFK', 'MP': 'MNP', 'NO': 'NOR', 'OM': 'OMN', 'PK': 'PAK', 'PW': 'PLW', 'PS': 'PSE', 'PA': 'PAN', 'PG': 'PNG', 'PY': 'PRY', 'PE': 'PER', 'PH': 'PHL', 'PN': 'PCN', 'PL': 'POL', 'PT': 'PRT', 'PR': 'PRI', 'QA': 'QAT', 'RE': 'REU', 'RO': 'ROU', 'RU': 'RUS', 'RW': 'RWA', 'BL': 'BLM', 'SH': 'SHN', 'KN': 'KNA', 'LC': 'LCA', 'MF': 'MAF', 'PM': 'SPM', 'VC': 'VCT', 'WS': 'WSM', 'SM': 'SMR', 'ST': 'STP', 'SA': 'SAU', 'SN': 'SEN', 'RS': 'SRB', 'SC': 'SYC', 'SL': 'SLE', 'SG': 'SGP', 'SK': 'SVK', 'SI': 'SVN', 'SB': 'SLB', 'SO': 'SOM', 'ZA': 'ZAF', 'GS': 'SGS', 'SS': 'SSD', 'ES': 'ESP', 'LK': 'LKA', 'SD': 'SDN', 'SR': 'SUR', 'SJ': 'SJM', 'SZ': 'SWZ', 'SE': 'SWE', 'CH': 'CHE', 'SY': 'SYR', 'TW': 'TWN', 'TJ': 'TJK', 'TZ': 'TZA', 'TH': 'THA', 'TL': 'TLS', 'TG': 'TGO', 'TK': 'TKL', 'TO': 'TON', 'TT': 'TTO', 'TN': 'TUN', 'TR': 'TUR', 'TM': 'TKM', 'TC': 'TCA', 'TV': 'TUV', 'UG': 'UGA', 'UA': 'UKR', 'AE': 'ARE', 'GB': 'GBR', 'US': 'USA', 'UM': 'UMI', 'UY': 'URY', 'UZ': 'UZB', 'VU': 'VUT', 'VE': 'VEN', 'VN': 'VNM', 'VI': 'VIR', 'WF': 'WLF', 'EH': 'ESH', 'YE': 'YEM', 'ZM': 'ZMB', 'ZW': 'ZWE', 'XK': 'XKX'}\n",
    "# fmt: on\n"
   ]
  },
  {
   "cell_type": "code",
   "execution_count": 4,
   "metadata": {},
   "outputs": [],
   "source": [
    "# import os\n",
    "# f = os.listdir('electricitymaps_datasets')\n",
    "# codes = list(set( [s.split('_')[0] for s in f]))\n",
    "# points_steps = [5.6, 9.75, 1, 1.38, 1.25, 1, 1, 1, 1, 1, 1, 1, 1]\n",
    "# codes = list(zip(codes, points_steps))\n",
    "# codes\n",
    "\n",
    "codes = [\n",
    "    (\"BR-CS\", 5.6),\n",
    "    (\"CA-ON\", 9.75),\n",
    "    (\"CH\", 1),\n",
    "    (\"DE\", 1.38),\n",
    "    (\"PL\", 1.25),\n",
    "    (\"BE\", 1),\n",
    "    (\"IT-NO\", 1.2),\n",
    "    (\"CA-QC\", 9.75),\n",
    "    (\"ES\", 1.5),\n",
    "    (\"GB\", 1.25),\n",
    "    (\"FI\", 1.5),\n",
    "    (\"FR\", 1.6),\n",
    "    (\"NL\", 1),\n",
    "]"
   ]
  },
  {
   "cell_type": "code",
   "execution_count": 8,
   "metadata": {},
   "outputs": [
    {
     "name": "stdout",
     "output_type": "stream",
     "text": [
      "BR-CS 30\n",
      "CA-ON 30\n",
      "CH 7\n",
      "DE 30\n",
      "PL 31\n",
      "BE 6\n",
      "IT-NO 34\n",
      "CA-QC 30\n",
      "ES 33\n",
      "GB 33\n",
      "FI 33\n",
      "FR 38\n",
      "NL 9\n"
     ]
    }
   ],
   "source": [
    "import pandas as pd\n",
    "import numpy as np\n",
    "\n",
    "\n",
    "for code, points_step in codes:\n",
    "    # code = 'BE'\n",
    "\n",
    "    emission_df = pd.concat(\n",
    "        (\n",
    "            pd.read_csv(f\"electricitymaps_datasets/{code}_2021_hourly.csv\"),\n",
    "            pd.read_csv(f\"electricitymaps_datasets/{code}_2022_hourly.csv\"),\n",
    "        )\n",
    "    ).reset_index(drop=True)\n",
    "\n",
    "    emission_df[\"Datetime (UTC)\"] = pd.to_datetime(emission_df[\"Datetime (UTC)\"])\n",
    "    emission_df = emission_df[\n",
    "        [\"Datetime (UTC)\", \"Zone Name\", \"Zone Id\", \"Carbon Intensity gCO₂eq/kWh (LCA)\"]\n",
    "    ]\n",
    "    weather_country_code = emission_df[\"Zone Id\"][0]\n",
    "\n",
    "    country_code = emission_df[\"Zone Id\"][0].split(\"-\")[0]\n",
    "    emission_df[\"country_code\"] = country_code\n",
    "\n",
    "    weather_country_code = emission_df[\"country_code\"][0].split(\"-\")[0]\n",
    "\n",
    "    points = get_points_over_country(\n",
    "        country_code=countryISOMapping[country_code], points_step=points_step\n",
    "    )\n",
    "\n",
    "    print(code, len(points))\n",
    "    year_start = \"2021\"\n",
    "    month_start = \"01\"\n",
    "    day_start = \"01\"\n",
    "\n",
    "    year_end = \"2022\"\n",
    "    month_end = \"12\"\n",
    "    day_end = \"31\"\n",
    "\n",
    "    weather_matrices = []\n",
    "    for longitude, latitude in points:\n",
    "        weather_df = get_historic_data(\n",
    "            latitude=latitude,\n",
    "            longitude=longitude,\n",
    "            year_start=year_start,\n",
    "            month_start=month_start,\n",
    "            day_start=day_start,\n",
    "            year_end=year_end,\n",
    "            month_end=month_end,\n",
    "            day_end=day_end,\n",
    "            parameters=parameters,\n",
    "        )\n",
    "        if \"weathercode\" in weather_df.columns:\n",
    "            weather_df = weather_df.drop(columns=[\"weathercode\"])\n",
    "\n",
    "        weather_df[\"emission\"] = emission_df[\"Carbon Intensity gCO₂eq/kWh (LCA)\"].values\n",
    "        weather_df[\"time\"] = emission_df[\"Datetime (UTC)\"].dt.hour\n",
    "        \n",
    "        # weather_df[\"country_code\"] = emission_df[\"country_code\"]\n",
    "        weather_df['longitude'] = longitude\n",
    "        weather_df['latitude'] = latitude\n",
    "        # weather_df = weather_df.drop(columns=['time'])\n",
    "        # print(weather_df.columns)\n",
    "        \n",
    "        weather_matrices.append(weather_df.to_numpy())\n",
    "\n",
    "    weather_matrices = np.array(weather_matrices)\n",
    "    weather_matrices = weather_matrices.transpose((1, 2, 0))\n",
    "    np.save(\"electricitymaps_datasets/\" + f\"{code}_np_dataset.npy\", weather_matrices)"
   ]
  },
  {
   "cell_type": "code",
   "execution_count": 9,
   "metadata": {},
   "outputs": [
    {
     "data": {
      "text/plain": [
       "(17520, 24, 9)"
      ]
     },
     "execution_count": 9,
     "metadata": {},
     "output_type": "execute_result"
    }
   ],
   "source": [
    "weather_matrices.shape\n"
   ]
  },
  {
   "cell_type": "code",
   "execution_count": 17,
   "metadata": {},
   "outputs": [],
   "source": [
    "code = \"BE\"\n",
    "\n",
    "import numpy as np\n",
    "import pandas as pd\n",
    "\n",
    "features = np.load(f\"electricitymaps_datasets/{code}_np_dataset.npy\", allow_pickle=True)\n",
    "# features = features[:, 1:, :]\n",
    "# features = features[:, :-1, :]\n",
    "\n",
    "emission_df = pd.concat(\n",
    "    (\n",
    "        pd.read_csv(f\"electricitymaps_datasets/{code}_2021_hourly.csv\"),\n",
    "        pd.read_csv(f\"electricitymaps_datasets/{code}_2022_hourly.csv\"),\n",
    "    )\n",
    ").reset_index(drop=True)\n",
    "target = emission_df[\"Carbon Intensity gCO₂eq/kWh (LCA)\"].to_numpy()"
   ]
  },
  {
   "cell_type": "code",
   "execution_count": 14,
   "metadata": {},
   "outputs": [
    {
     "name": "stderr",
     "output_type": "stream",
     "text": [
      "2023-07-05 13:36:26.154871: I tensorflow/core/util/port.cc:110] oneDNN custom operations are on. You may see slightly different numerical results due to floating-point round-off errors from different computation orders. To turn them off, set the environment variable `TF_ENABLE_ONEDNN_OPTS=0`.\n",
      "2023-07-05 13:36:26.215345: I tensorflow/core/platform/cpu_feature_guard.cc:182] This TensorFlow binary is optimized to use available CPU instructions in performance-critical operations.\n",
      "To enable the following instructions: AVX2 AVX512F AVX512_VNNI FMA, in other operations, rebuild TensorFlow with the appropriate compiler flags.\n",
      "2023-07-05 13:36:27.020318: W tensorflow/compiler/tf2tensorrt/utils/py_utils.cc:38] TF-TRT Warning: Could not find TensorRT\n"
     ]
    }
   ],
   "source": [
    "from weather_co2_dataset import WeatherCO2DataModule\n",
    "\n",
    "dm = WeatherCO2DataModule(\n",
    "    [features],\n",
    "    [target],\n",
    "    lookback_window=96,\n",
    "    predict_window=24,\n",
    "    num_workers=10,\n",
    "    batch_size=4,\n",
    ")"
   ]
  },
  {
   "cell_type": "code",
   "execution_count": 16,
   "metadata": {},
   "outputs": [
    {
     "data": {
      "text/plain": [
       "12145"
      ]
     },
     "execution_count": 16,
     "metadata": {},
     "output_type": "execute_result"
    }
   ],
   "source": [
    "dm.setup('fit')\n",
    "len(dm.train_dataset)"
   ]
  },
  {
   "cell_type": "code",
   "execution_count": 19,
   "metadata": {},
   "outputs": [
    {
     "name": "stdout",
     "output_type": "stream",
     "text": [
      "(17520, 23, 30)\n",
      "(17520, 23, 30)\n",
      "(17520, 23, 7)\n",
      "(17520, 23, 30)\n",
      "(17520, 23, 31)\n",
      "(17520, 23, 6)\n",
      "(17520, 23, 34)\n",
      "(17520, 23, 30)\n",
      "(17520, 23, 33)\n",
      "(17520, 23, 33)\n",
      "(17520, 23, 33)\n",
      "(17520, 23, 38)\n",
      "(17520, 23, 9)\n"
     ]
    }
   ],
   "source": [
    "codes = [\"BR-CS\", \"CA-ON\", \"CH\", \"DE\", \"PL\", \"BE\", \"IT-NO\", \"CA-QC\", \"ES\", \"GB\", \"FI\", \"FR\", \"NL\"]\n",
    "for code in codes:\n",
    "    features = np.load(f\"electricitymaps_datasets/{code}_np_dataset.npy\", allow_pickle=True)\n",
    "    print(features.shape)"
   ]
  },
  {
   "cell_type": "code",
   "execution_count": null,
   "metadata": {},
   "outputs": [],
   "source": []
  }
 ],
 "metadata": {
  "kernelspec": {
   "display_name": "eco2ai",
   "language": "python",
   "name": "python3"
  },
  "language_info": {
   "codemirror_mode": {
    "name": "ipython",
    "version": 3
   },
   "file_extension": ".py",
   "mimetype": "text/x-python",
   "name": "python",
   "nbconvert_exporter": "python",
   "pygments_lexer": "ipython3",
   "version": "3.10.11"
  },
  "orig_nbformat": 4
 },
 "nbformat": 4,
 "nbformat_minor": 2
}
