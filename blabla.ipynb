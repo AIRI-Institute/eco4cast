{
 "cells": [
  {
   "cell_type": "code",
   "execution_count": 1,
   "metadata": {},
   "outputs": [],
   "source": [
    "import eco2ai\n",
    "import math\n",
    "import time"
   ]
  },
  {
   "cell_type": "code",
   "execution_count": 6,
   "metadata": {},
   "outputs": [
    {
     "name": "stderr",
     "output_type": "stream",
     "text": [
      "/home/lazarev/disk/tiutiulnikov/miniconda3/envs/eco2ai/lib/python3.10/site-packages/eco2ai/emission_track.py:135: UserWarning: \n",
      "If you use a VPN, you may have problems with identifying your country by IP.\n",
      "It is recommended to disable VPN or\n",
      "manually install the ISO-Alpha-2 code of your country during initialization of the Tracker() class.\n",
      "You can find the ISO-Alpha-2 code of your country here: https://www.iban.com/country-codes\n",
      "\n",
      "  warnings.warn(\n",
      "Error submitting job \"Tracker._func_for_sched (trigger: interval[0:00:10], next run at: 2023-06-22 12:01:23 MSK)\" to executor \"default\"\n",
      "Traceback (most recent call last):\n",
      "  File \"/home/lazarev/disk/tiutiulnikov/miniconda3/envs/eco2ai/lib/python3.10/site-packages/apscheduler/schedulers/base.py\", line 978, in _process_jobs\n",
      "    executor.submit_job(job, run_times)\n",
      "  File \"/home/lazarev/disk/tiutiulnikov/miniconda3/envs/eco2ai/lib/python3.10/site-packages/apscheduler/executors/base.py\", line 71, in submit_job\n",
      "    self._do_submit_job(job, run_times)\n",
      "  File \"/home/lazarev/disk/tiutiulnikov/miniconda3/envs/eco2ai/lib/python3.10/site-packages/apscheduler/executors/pool.py\", line 28, in _do_submit_job\n",
      "    f = self._pool.submit(run_job, job, job._jobstore_alias, run_times, self._logger.name)\n",
      "  File \"/home/lazarev/disk/tiutiulnikov/miniconda3/envs/eco2ai/lib/python3.10/concurrent/futures/thread.py\", line 167, in submit\n",
      "    raise RuntimeError('cannot schedule new futures after shutdown')\n",
      "RuntimeError: cannot schedule new futures after shutdown\n"
     ]
    }
   ],
   "source": [
    "tracker = eco2ai.Tracker()\n",
    "\n",
    "tracker.start()\n",
    "j=1\n",
    "for i in range(10000):\n",
    "   j+=math.sin(i)\n",
    "for _ in range(120):\n",
    "    time.sleep(0.1)\n",
    "tracker.stop()\n",
    "\n",
    "\n",
    "tracker.start()\n",
    "j=1\n",
    "for i in range(10000):\n",
    "   j+=math.sin(i)\n",
    "for _ in range(120):\n",
    "    time.sleep(0.1)\n",
    "tracker.stop()"
   ]
  },
  {
   "cell_type": "code",
   "execution_count": 8,
   "metadata": {},
   "outputs": [],
   "source": [
    "tracker.start()"
   ]
  },
  {
   "cell_type": "code",
   "execution_count": null,
   "metadata": {},
   "outputs": [],
   "source": []
  }
 ],
 "metadata": {
  "kernelspec": {
   "display_name": "eco2ai",
   "language": "python",
   "name": "python3"
  },
  "language_info": {
   "codemirror_mode": {
    "name": "ipython",
    "version": 3
   },
   "file_extension": ".py",
   "mimetype": "text/x-python",
   "name": "python",
   "nbconvert_exporter": "python",
   "pygments_lexer": "ipython3",
   "version": "3.10.11"
  },
  "orig_nbformat": 4
 },
 "nbformat": 4,
 "nbformat_minor": 2
}
