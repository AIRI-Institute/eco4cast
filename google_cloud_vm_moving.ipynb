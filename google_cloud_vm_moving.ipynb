{
 "cells": [
  {
   "cell_type": "code",
   "execution_count": 1,
   "metadata": {},
   "outputs": [],
   "source": [
    "# pip install -r compute/client_library/requirements.txt\n",
    "\n",
    "\n",
    "# https://cloud.google.com/docs/authentication/application-default-credentials\n",
    "# Put it near notebook file"
   ]
  },
  {
   "cell_type": "code",
   "execution_count": 2,
   "metadata": {},
   "outputs": [],
   "source": [
    "# Full process described in https://cloud.google.com/compute/docs/instances/moving-instance-across-zones#python"
   ]
  },
  {
   "cell_type": "code",
   "execution_count": 3,
   "metadata": {},
   "outputs": [],
   "source": [
    "import os \n",
    "from pathlib import Path\n",
    "import time\n",
    "\n",
    "start_time = time.time()\n",
    "\n",
    "credentials_path = Path(os.getcwd()) / 'application_default_credentials.json'\n",
    "os.environ['GOOGLE_APPLICATION_CREDENTIALS'] = str(credentials_path)"
   ]
  },
  {
   "cell_type": "code",
   "execution_count": 4,
   "metadata": {},
   "outputs": [],
   "source": [
    "from compute.client_library.snippets.instances.get import get_instance\n",
    "\n",
    "current_zone = \"us-west1-b\"\n",
    "# current_zone = \"europe-southwest1-a\"\n",
    "current_instance_name = \"vm\"\n",
    "project_id = \"test-smart-scheduler\"\n",
    "\n",
    "instance = get_instance(\n",
    "    project_id=project_id, zone=current_zone, instance_name=current_instance_name\n",
    ")"
   ]
  },
  {
   "cell_type": "code",
   "execution_count": 16,
   "metadata": {},
   "outputs": [
    {
     "data": {
      "text/plain": [
       "(25, 'persistent-disk-0', 'e2-medium')"
      ]
     },
     "execution_count": 16,
     "metadata": {},
     "output_type": "execute_result"
    }
   ],
   "source": [
    "machine_type = instance.machine_type.split(\"/\")[-1]\n",
    "disk = instance.disks[0]\n",
    "disk.disk_size_gb, disk.device_name, machine_type"
   ]
  },
  {
   "cell_type": "code",
   "execution_count": 17,
   "metadata": {},
   "outputs": [],
   "source": [
    "from compute.client_library.snippets.disks.autodelete_change import set_disk_autodelete\n",
    "\n",
    "set_disk_autodelete(\n",
    "    project_id=project_id,\n",
    "    zone=current_zone,\n",
    "    instance_name=current_instance_name,\n",
    "    disk_name=disk.device_name,\n",
    "    autodelete=False,\n",
    ")"
   ]
  },
  {
   "cell_type": "code",
   "execution_count": 18,
   "metadata": {},
   "outputs": [],
   "source": [
    "from compute.client_library.snippets.snapshots.create import create_snapshot\n",
    "\n",
    "snapshot_name = f\"{disk.device_name}-snapshot\"\n",
    "\n",
    "snapshot = create_snapshot(\n",
    "    project_id=project_id,\n",
    "    disk_name=disk.device_name,\n",
    "    snapshot_name=snapshot_name,\n",
    "    zone=current_zone,\n",
    ")"
   ]
  },
  {
   "cell_type": "code",
   "execution_count": 19,
   "metadata": {},
   "outputs": [
    {
     "data": {
      "text/plain": [
       "architecture: \"X86_64\"\n",
       "creation_size_bytes: 21844277760\n",
       "creation_timestamp: \"2023-06-15T00:28:19.231-07:00\"\n",
       "disk_size_gb: 25\n",
       "download_bytes: 21844475298\n",
       "id: 1138803013925143423\n",
       "kind: \"compute#snapshot\"\n",
       "label_fingerprint: \"42WmSpB8rSM=\"\n",
       "license_codes: 591260547102547226\n",
       "licenses: \"https://www.googleapis.com/compute/v1/projects/ubuntu-os-cloud/global/licenses/ubuntu-minimal-2204-lts\"\n",
       "name: \"persistent-disk-0-snapshot\"\n",
       "self_link: \"https://www.googleapis.com/compute/v1/projects/test-smart-scheduler/global/snapshots/persistent-disk-0-snapshot\"\n",
       "source_disk: \"https://www.googleapis.com/compute/v1/projects/test-smart-scheduler/zones/europe-southwest1-a/disks/persistent-disk-0\"\n",
       "source_disk_id: \"5954479496213504791\"\n",
       "status: \"READY\"\n",
       "storage_bytes: 21844277760\n",
       "storage_bytes_status: \"UP_TO_DATE\"\n",
       "storage_locations: \"eu\""
      ]
     },
     "execution_count": 19,
     "metadata": {},
     "output_type": "execute_result"
    }
   ],
   "source": [
    "snapshot"
   ]
  },
  {
   "cell_type": "code",
   "execution_count": 20,
   "metadata": {},
   "outputs": [
    {
     "name": "stdout",
     "output_type": "stream",
     "text": [
      "Deleting vm from europe-southwest1-a...\n",
      "Instance vm deleted.\n"
     ]
    }
   ],
   "source": [
    "from compute.client_library.snippets.instances.delete import delete_instance\n",
    "\n",
    "delete_instance(\n",
    "    project_id=project_id, zone=current_zone, machine_name=current_instance_name\n",
    ")"
   ]
  },
  {
   "cell_type": "code",
   "execution_count": 21,
   "metadata": {},
   "outputs": [],
   "source": [
    "from compute.client_library.snippets.disks.delete import delete_disk\n",
    "\n",
    "delete_disk(project_id=project_id, zone=current_zone, disk_name=disk.device_name)"
   ]
  },
  {
   "cell_type": "code",
   "execution_count": 22,
   "metadata": {},
   "outputs": [],
   "source": [
    "from compute.client_library.snippets.disks.create_from_snapshot import (\n",
    "    create_disk_from_snapshot,\n",
    ")\n",
    "\n",
    "# new_zone = \"europe-southwest1-a\"\n",
    "new_zone = \"us-west1-b\"\n",
    "\n",
    "\n",
    "new_disk = create_disk_from_snapshot(\n",
    "    project_id=project_id,\n",
    "    zone=new_zone,\n",
    "    disk_name=disk.device_name,\n",
    "    disk_size_gb=disk.disk_size_gb,\n",
    "    disk_type=f\"zones/{new_zone}/diskTypes/pd-standard\",\n",
    "    snapshot_link=snapshot.self_link,\n",
    ")"
   ]
  },
  {
   "cell_type": "code",
   "execution_count": 23,
   "metadata": {},
   "outputs": [
    {
     "name": "stdout",
     "output_type": "stream",
     "text": [
      "Creating the vm instance in us-west1-b...\n",
      "Instance vm created.\n"
     ]
    }
   ],
   "source": [
    "from compute.client_library.snippets.instances.create_start_instance.create_with_existing_disks import (\n",
    "    create_instance,\n",
    "    get_disk,\n",
    "    compute_v1,\n",
    ")\n",
    "\n",
    "\n",
    "new_instance_name = \"vm\"\n",
    "\n",
    "\n",
    "def create_with_existing_disks(\n",
    "    project_id: str,\n",
    "    zone: str,\n",
    "    instance_name: str,\n",
    "    disk_names: list[str],\n",
    "    machine_type: str = \"n1-standard-1\",\n",
    ") -> compute_v1.Instance:\n",
    "    \"\"\"\n",
    "    Create a new VM instance using selected disks. The first disk in disk_names will\n",
    "    be used as boot disk.\n",
    "\n",
    "    Args:\n",
    "        project_id: project ID or project number of the Cloud project you want to use.\n",
    "        zone: name of the zone to create the instance in. For example: \"us-west3-b\"\n",
    "        instance_name: name of the new virtual machine (VM) instance.\n",
    "        disk_names: list of disk names to be attached to the new virtual machine.\n",
    "            First disk in this list will be used as the boot device.\n",
    "\n",
    "\n",
    "    Returns:\n",
    "        Instance object.\n",
    "    \"\"\"\n",
    "    assert len(disk_names) >= 1\n",
    "    disks = [get_disk(project_id, zone, disk_name) for disk_name in disk_names]\n",
    "    attached_disks = []\n",
    "    for disk in disks:\n",
    "        adisk = compute_v1.AttachedDisk()\n",
    "        adisk.source = disk.self_link\n",
    "        attached_disks.append(adisk)\n",
    "    attached_disks[0].boot = True\n",
    "    instance = create_instance(\n",
    "        project_id,\n",
    "        zone,\n",
    "        instance_name,\n",
    "        attached_disks,\n",
    "        machine_type=machine_type,\n",
    "        external_access=True,\n",
    "    )\n",
    "    return instance\n",
    "\n",
    "\n",
    "new_instance = create_with_existing_disks(\n",
    "    project_id=project_id,\n",
    "    zone=new_zone,\n",
    "    instance_name=new_instance_name,\n",
    "    disk_names=[new_disk.name],\n",
    "    machine_type=machine_type,\n",
    ")"
   ]
  },
  {
   "cell_type": "code",
   "execution_count": 24,
   "metadata": {},
   "outputs": [
    {
     "data": {
      "text/plain": [
       "'34.105.9.76'"
      ]
     },
     "execution_count": 24,
     "metadata": {},
     "output_type": "execute_result"
    }
   ],
   "source": [
    "new_instance.network_interfaces[0].access_configs[0].nat_i_p"
   ]
  },
  {
   "cell_type": "code",
   "execution_count": 25,
   "metadata": {},
   "outputs": [],
   "source": [
    "from compute.client_library.snippets.snapshots.delete import delete_snapshot\n",
    "delete_snapshot(project_id=project_id, snapshot_name=snapshot_name)"
   ]
  },
  {
   "cell_type": "code",
   "execution_count": 26,
   "metadata": {},
   "outputs": [
    {
     "data": {
      "text/plain": [
       "394.0632379055023"
      ]
     },
     "execution_count": 26,
     "metadata": {},
     "output_type": "execute_result"
    }
   ],
   "source": [
    "end_time = time.time()\n",
    "end_time - start_time"
   ]
  }
 ],
 "metadata": {
  "kernelspec": {
   "display_name": "google_cloud",
   "language": "python",
   "name": "python3"
  },
  "language_info": {
   "codemirror_mode": {
    "name": "ipython",
    "version": 3
   },
   "file_extension": ".py",
   "mimetype": "text/x-python",
   "name": "python",
   "nbconvert_exporter": "python",
   "pygments_lexer": "ipython3",
   "version": "3.10.11"
  },
  "orig_nbformat": 4
 },
 "nbformat": 4,
 "nbformat_minor": 2
}
